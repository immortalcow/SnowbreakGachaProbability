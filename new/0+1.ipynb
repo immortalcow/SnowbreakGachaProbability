{
 "cells": [
  {
   "cell_type": "code",
   "execution_count": 1,
   "metadata": {},
   "outputs": [
    {
     "name": "stdout",
     "output_type": "stream",
     "text": [
      "角色池最差分布的首末抽占比：(0.15543398979950887, 0.7664537564230146)，武器池最差分布的首末抽占比：(0.18035305023984285, 0.7588735576349207)\n"
     ]
    }
   ],
   "source": [
    "# 最终求解目标是，在满足约束的情况下，让前179抽达成抽卡目标的概率尽可能地小，以分析最坏情况下的抽卡成本\n",
    "\n",
    "CHARACTER_BASE_PROB = 0.001\n",
    "CHARACTER_DEPTH = 100\n",
    "CHARACTER_EXP = 1 / 0.0124\n",
    "\n",
    "WEAPON_BASE_PROB = 0.001\n",
    "WEAPON_DEPTH = 80\n",
    "WEAPON_EXP = 1 / 0.0158\n",
    "\n",
    "def ProbRate(x,base_prob):\n",
    "    return base_prob*(1-base_prob)**(x-2)\n",
    "def ExpRate(x,base_prob):\n",
    "    return x*ProbRate(x,base_prob)\n",
    "def GetWorstDist(depth,base_prob,target_exp):\n",
    "    rate_prob=sum(ProbRate(x,base_prob) for x in range(2, depth-1))\n",
    "    rate_exp=sum(ExpRate(x,base_prob) for x in range(2, depth-1))\n",
    "    #鸡兔同笼问题：\n",
    "    #P(x)=a+rate_prob*(1-a)+z=1\n",
    "    #E(x)=a+rate_exp*(1-a)+depth*z=target_exp\n",
    "    #1式移项：\n",
    "    #z=1-a-rate_prob*(1-a)\n",
    "    #代入2式：\n",
    "    #a+rate_exp*(1-a)      +depth*(1-a-rate_prob*(1-a))                      -target_exp=0\n",
    "    #a+rate_exp-rate_exp*a +depth-depth*a -depth*rate_prob*(1-a)             -target_exp=0\n",
    "    #a+rate_exp-rate_exp*a +depth-depth*a -depth*rate_prob+depth*rate_prob*a -target_exp=0\n",
    "    #(1-rate_exp-depth+depth*rate_prob)*a +rate_exp+depth-depth*rate_prob-target_exp=0\n",
    "    a=-(rate_exp+depth-depth*rate_prob-target_exp)/(1-rate_exp-depth+depth*rate_prob)\n",
    "    z=1-a-rate_prob*(1-a)\n",
    "    return a,z\n",
    "\n",
    "print(f\"角色池最差分布的首末抽占比：{GetWorstDist(CHARACTER_DEPTH,CHARACTER_BASE_PROB,CHARACTER_EXP)}，武器池最差分布的首末抽占比：{GetWorstDist(WEAPON_DEPTH,WEAPON_BASE_PROB,WEAPON_EXP)}\")"
   ]
  }
 ],
 "metadata": {
  "kernelspec": {
   "display_name": "pytorch_cuda",
   "language": "python",
   "name": "python3"
  },
  "language_info": {
   "codemirror_mode": {
    "name": "ipython",
    "version": 3
   },
   "file_extension": ".py",
   "mimetype": "text/x-python",
   "name": "python",
   "nbconvert_exporter": "python",
   "pygments_lexer": "ipython3",
   "version": "3.9.0"
  }
 },
 "nbformat": 4,
 "nbformat_minor": 2
}
